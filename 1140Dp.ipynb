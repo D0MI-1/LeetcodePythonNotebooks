{
  "nbformat": 4,
  "nbformat_minor": 0,
  "metadata": {
    "colab": {
      "provenance": [],
      "authorship_tag": "ABX9TyPHYo6WHAPcYth1qkKABKlz",
      "include_colab_link": true
    },
    "kernelspec": {
      "name": "python3",
      "display_name": "Python 3"
    },
    "language_info": {
      "name": "python"
    }
  },
  "cells": [
    {
      "cell_type": "markdown",
      "metadata": {
        "id": "view-in-github",
        "colab_type": "text"
      },
      "source": [
        "<a href=\"https://colab.research.google.com/github/D0MI-1/LeetcodePythonNotebooks/blob/main/1140Dp.ipynb\" target=\"_parent\"><img src=\"https://colab.research.google.com/assets/colab-badge.svg\" alt=\"Open In Colab\"/></a>"
      ]
    },
    {
      "cell_type": "code",
      "execution_count": null,
      "metadata": {
        "id": "J8vAF2KsBbcX"
      },
      "outputs": [],
      "source": [
        "class Solution:\n",
        "    def stoneGameII(self, piles: List[int]) -> int:\n",
        "        n = len(piles)\n",
        "\n",
        "        dp = [[0] * (n + 1) for _ in range(n)]\n",
        "        suffix_sum = [0] * n\n",
        "        suffix_sum[-1] = piles[-1]\n",
        "\n",
        "        for i in range(n - 2, -1, -1):\n",
        "            suffix_sum[i] = suffix_sum[i + 1] + piles[i]\n",
        "\n",
        "        for i in range(n - 1, -1, -1):\n",
        "            for m in range(1, n + 1):\n",
        "                if i + 2 * m >= n:\n",
        "                    dp[i][m] = suffix_sum[i]\n",
        "                else:\n",
        "                    for x in range(1, 2 * m + 1):\n",
        "                        dp[i][m] = max(dp[i][m], suffix_sum[i] - dp[i + x][max(m, x)])\n",
        "\n",
        "        return dp[0][1]"
      ]
    }
  ]
}