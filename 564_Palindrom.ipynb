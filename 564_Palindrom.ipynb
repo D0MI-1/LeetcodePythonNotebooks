{
  "nbformat": 4,
  "nbformat_minor": 0,
  "metadata": {
    "colab": {
      "provenance": [],
      "authorship_tag": "ABX9TyOl3dciFUAkQybdfOI+FyDa",
      "include_colab_link": true
    },
    "kernelspec": {
      "name": "python3",
      "display_name": "Python 3"
    },
    "language_info": {
      "name": "python"
    }
  },
  "cells": [
    {
      "cell_type": "markdown",
      "metadata": {
        "id": "view-in-github",
        "colab_type": "text"
      },
      "source": [
        "<a href=\"https://colab.research.google.com/github/D0MI-1/LeetcodePythonNotebooks/blob/main/564_Palindrom.ipynb\" target=\"_parent\"><img src=\"https://colab.research.google.com/assets/colab-badge.svg\" alt=\"Open In Colab\"/></a>"
      ]
    },
    {
      "cell_type": "markdown",
      "source": [
        "564. Find the Closest Palindrome\n",
        "\n",
        "Given a string n representing an integer, return the closest integer (not including itself), which is a palindrome. If there is a tie, return the smaller one.\n",
        "\n",
        "The closest is defined as the absolute difference minimized between two integers.\n",
        "\n",
        "\n",
        "\n",
        "Example 1:\n",
        "\n",
        "Input: n = \"123\"\n",
        "Output: \"121\"\n",
        "Example 2:\n",
        "\n",
        "Input: n = \"1\"\n",
        "Output: \"0\"\n",
        "Explanation: 0 and 2 are the closest palindromes but we return the smallest which is 0."
      ],
      "metadata": {
        "id": "zIb3GTrcKDzh"
      }
    },
    {
      "cell_type": "code",
      "execution_count": null,
      "metadata": {
        "id": "JXCX2dO_KCE1"
      },
      "outputs": [],
      "source": [
        "class Solution:\n",
        "\n",
        "    # Create palindrom from half\n",
        "    def create_palindrome(self,half, length):\n",
        "        # [<start>:<stop>:<step>]\n",
        "        # if even half[-2::-1] eg 1234 then half = 12 result 1221\n",
        "        # if odd half[::-1] eg 12345 then half 123 result 12321\n",
        "        return int(half + half[-2::-1]) if length % 2 else int(half + half[::-1])\n",
        "\n",
        "\n",
        "    def nearestPalindromic(self, n: str) -> str:\n",
        "        if len(n) == 1:\n",
        "            return str(int(n) - 1)\n",
        "\n",
        "        num = int(n)\n",
        "        length = len(n)\n",
        "\n",
        "        # [:]: This is a slicing expression that specifies a range of elements to extract\n",
        "        # (length + 1) // 2 get first half of number with middle digit for ood length numbers\n",
        "        half = n[:(length + 1) // 2]\n",
        "\n",
        "        # 10 ** length for length 3 = 1000\n",
        "        # if number 1000 create 999\n",
        "        # if number 99 create 101\n",
        "        candidates = [\n",
        "            str(10 ** (length - 1) - 1),  # All 9's\n",
        "            str(10 ** length + 1)         # All 0's with 1 at ends\n",
        "        ]\n",
        "\n",
        "\n",
        "        # Palindrom slightly smaller, the same or larger -1, 0, 1\n",
        "        for i in range(-1, 2):\n",
        "            candidate = self.create_palindrome(str(int(half) + i), length)\n",
        "            if candidate != num:\n",
        "                candidates.append(str(candidate))\n",
        "\n",
        "        # if num = 123 and candidates are \"121\" and \"131\":\n",
        "        # For \"121\": (abs(121-123), 121) = (2, 121)\n",
        "        # For \"131\": (abs(131-123), 131) = (8, 131)\n",
        "        # min()  2 < 8, so \"121\" is returned\n",
        "        return min(candidates, key=lambda x: (abs(int(x) - num), int(x)))\n"
      ]
    }
  ]
}