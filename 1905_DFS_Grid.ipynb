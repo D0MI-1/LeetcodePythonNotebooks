{
  "nbformat": 4,
  "nbformat_minor": 0,
  "metadata": {
    "colab": {
      "provenance": [],
      "authorship_tag": "ABX9TyNhz85NQCfCJKSxlQD/MVpW",
      "include_colab_link": true
    },
    "kernelspec": {
      "name": "python3",
      "display_name": "Python 3"
    },
    "language_info": {
      "name": "python"
    }
  },
  "cells": [
    {
      "cell_type": "markdown",
      "metadata": {
        "id": "view-in-github",
        "colab_type": "text"
      },
      "source": [
        "<a href=\"https://colab.research.google.com/github/D0MI-1/LeetcodePythonNotebooks/blob/main/1905_DFS_Grid.ipynb\" target=\"_parent\"><img src=\"https://colab.research.google.com/assets/colab-badge.svg\" alt=\"Open In Colab\"/></a>"
      ]
    },
    {
      "cell_type": "markdown",
      "source": [
        "1905. Count Sub Islands\n",
        "\n",
        "You are given two m x n binary matrices grid1 and grid2 containing only 0's (representing water) and 1's (representing land). An island is a group of 1's connected 4-directionally (horizontal or vertical). Any cells outside of the grid are considered water cells.\n",
        "\n",
        "An island in grid2 is considered a sub-island if there is an island in grid1 that contains all the cells that make up this island in grid2.\n",
        "\n",
        "Return the number of islands in grid2 that are considered sub-islands.\n",
        "\n",
        "\n",
        "\n",
        "Example 1:\n",
        "\n",
        "\n",
        "Input: grid1 = [[1,1,1,0,0],[0,1,1,1,1],[0,0,0,0,0],[1,0,0,0,0],[1,1,0,1,1]], grid2 = [[1,1,1,0,0],[0,0,1,1,1],[0,1,0,0,0],[1,0,1,1,0],[0,1,0,1,0]]\n",
        "Output: 3\n",
        "Explanation: In the picture above, the grid on the left is grid1 and the grid on the right is grid2.\n",
        "The 1s colored red in grid2 are those considered to be part of a sub-island. There are three sub-islands.\n",
        "Example 2:\n",
        "\n",
        "\n",
        "Input: grid1 = [[1,0,1,0,1],[1,1,1,1,1],[0,0,0,0,0],[1,1,1,1,1],[1,0,1,0,1]], grid2 = [[0,0,0,0,0],[1,1,1,1,1],[0,1,0,1,0],[0,1,0,1,0],[1,0,0,0,1]]\n",
        "Output: 2\n",
        "Explanation: In the picture above, the grid on the left is grid1 and the grid on the right is grid2.\n",
        "The 1s colored red in grid2 are those considered to be part of a sub-island. There are two sub-islands.\n"
      ],
      "metadata": {
        "id": "loSIVPMbDmBm"
      }
    },
    {
      "cell_type": "code",
      "execution_count": null,
      "metadata": {
        "id": "0EzqFtdoDGxM"
      },
      "outputs": [],
      "source": [
        "class Solution:\n",
        "    def countSubIslands(self, grid1: List[List[int]], grid2: List[List[int]]) -> int:\n",
        "        m, n = len(grid1), len(grid1[0])\n",
        "\n",
        "        def dfs(i, j):\n",
        "            if i < 0 or i >= m or j < 0 or j >= n or grid2[i][j] == 0:\n",
        "                return True\n",
        "\n",
        "            grid2[i][j] = 0 # Mark as visited\n",
        "            is_subisland = grid1[i][j] == 1\n",
        "\n",
        "            directions = [(0,1), (1,0), (0,-1), (-1,0)]\n",
        "            for di, dj in directions:\n",
        "                is_subisland &= dfs (i + di, j + dj)\n",
        "\n",
        "            return is_subisland\n",
        "\n",
        "        count = 0\n",
        "        for i in range(m):\n",
        "            for j in range(n):\n",
        "                if grid2[i][j] == 1 and dfs(i,j):\n",
        "                    count +=1\n",
        "\n",
        "        return count"
      ]
    }
  ]
}