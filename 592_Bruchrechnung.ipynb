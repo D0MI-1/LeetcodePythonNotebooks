{
  "nbformat": 4,
  "nbformat_minor": 0,
  "metadata": {
    "colab": {
      "provenance": [],
      "authorship_tag": "ABX9TyMSqTVJC+kN1z0bMvUFmnjn",
      "include_colab_link": true
    },
    "kernelspec": {
      "name": "python3",
      "display_name": "Python 3"
    },
    "language_info": {
      "name": "python"
    }
  },
  "cells": [
    {
      "cell_type": "markdown",
      "metadata": {
        "id": "view-in-github",
        "colab_type": "text"
      },
      "source": [
        "<a href=\"https://colab.research.google.com/github/D0MI-1/LeetcodePythonNotebooks/blob/main/592_Bruchrechnung.ipynb\" target=\"_parent\"><img src=\"https://colab.research.google.com/assets/colab-badge.svg\" alt=\"Open In Colab\"/></a>"
      ]
    },
    {
      "cell_type": "markdown",
      "source": [
        "592. Fraction Addition and Subtraction\n",
        "\n",
        "Given a string expression representing an expression of fraction addition and subtraction, return the calculation result in string format.\n",
        "\n",
        "The final result should be an irreducible fraction. If your final result is an integer, change it to the format of a fraction that has a denominator 1. So in this case, 2 should be converted to 2/1.\n",
        "\n",
        "\n",
        "\n",
        "Example 1:\n",
        "\n",
        "Input: expression = \"-1/2+1/2\"\n",
        "Output: \"0/1\"\n",
        "Example 2:\n",
        "\n",
        "Input: expression = \"-1/2+1/2+1/3\"\n",
        "Output: \"1/3\"\n",
        "Example 3:\n",
        "\n",
        "Input: expression = \"1/3-1/2\"\n",
        "Output: \"-1/6\""
      ],
      "metadata": {
        "id": "0MYPq51h1S_m"
      }
    },
    {
      "cell_type": "code",
      "execution_count": null,
      "metadata": {
        "id": "39jmxvkH08qK"
      },
      "outputs": [],
      "source": [
        "class Solution:\n",
        "    def parse_Expression(self, expression):\n",
        "        brueche = []\n",
        "        current = \"\"\n",
        "\n",
        "        for char in expression:\n",
        "            if char in \"+-\" and current:\n",
        "                brueche.append(current)\n",
        "                current = char\n",
        "            else:\n",
        "                current += char\n",
        "\n",
        "        brueche.append(current)\n",
        "        return brueche\n",
        "\n",
        "    def parse_fraction(self, s):\n",
        "        num, den = map(int, s.split('/'))\n",
        "        return num, den\n",
        "\n",
        "    def add_fractions(self, a, b):\n",
        "        num1, den1 = a\n",
        "        num2, den2 = b\n",
        "\n",
        "        gcd = math.gcd(den1, den2)\n",
        "        lcm = den1 * den2 // gcd\n",
        "\n",
        "        num1_new = num1 * (lcm // den1)\n",
        "        num2_new = num2 * (lcm // den2)\n",
        "\n",
        "        sum_num = num1_new + num2_new\n",
        "        sum_den = lcm\n",
        "\n",
        "        gcd = math.gcd(sum_num, sum_den)\n",
        "\n",
        "        sum_num //= gcd\n",
        "        sum_den //= gcd\n",
        "\n",
        "        return sum_num, sum_den\n",
        "\n",
        "    def subtract_fractions(self, a, b):\n",
        "        num1, den1 = a\n",
        "        num2, den2 = b\n",
        "\n",
        "        gcd = math.gcd(den1, den2)\n",
        "        lcm = den1 * den2 // gcd\n",
        "\n",
        "        num1_new = num1 * (lcm // den1)\n",
        "        num2_new = num2 * (lcm // den2)\n",
        "\n",
        "        difference_num = num1_new - num2_new\n",
        "        difference_den = lcm\n",
        "\n",
        "        gcd = math.gcd(difference_num, difference_den)\n",
        "        difference_num //= gcd\n",
        "        difference_den //= gcd\n",
        "\n",
        "        return difference_num, difference_den\n",
        "\n",
        "    def fractionAddition(self, expression: str) -> str:\n",
        "        brueche = self.parse_Expression(expression)\n",
        "\n",
        "        result = (0, 1)\n",
        "        for bruch in brueche:\n",
        "            if bruch[0] == '+':\n",
        "                fraction = self.parse_fraction(bruch[1:])\n",
        "                result = self.add_fractions(result, fraction)\n",
        "            elif bruch[0] == '-':\n",
        "                fraction = self.parse_fraction(bruch[1:])\n",
        "                result = self.subtract_fractions(result, fraction)\n",
        "            else:\n",
        "                fraction = self.parse_fraction(bruch)\n",
        "                result = self.add_fractions(result, fraction)\n",
        "\n",
        "        return f\"{result[0]}/{result[1]}\"\n",
        "\n",
        "\n",
        "\n"
      ]
    }
  ]
}