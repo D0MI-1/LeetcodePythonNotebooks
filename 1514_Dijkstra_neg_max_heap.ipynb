{
  "nbformat": 4,
  "nbformat_minor": 0,
  "metadata": {
    "colab": {
      "provenance": [],
      "authorship_tag": "ABX9TyPhTFSa4jPB+wXR5dKjTgJr",
      "include_colab_link": true
    },
    "kernelspec": {
      "name": "python3",
      "display_name": "Python 3"
    },
    "language_info": {
      "name": "python"
    }
  },
  "cells": [
    {
      "cell_type": "markdown",
      "metadata": {
        "id": "view-in-github",
        "colab_type": "text"
      },
      "source": [
        "<a href=\"https://colab.research.google.com/github/D0MI-1/LeetcodePythonNotebooks/blob/main/1514_Dijkstra_neg_max_heap.ipynb\" target=\"_parent\"><img src=\"https://colab.research.google.com/assets/colab-badge.svg\" alt=\"Open In Colab\"/></a>"
      ]
    },
    {
      "cell_type": "markdown",
      "source": [
        "1514. Path with Maximum Probability\n",
        "\n",
        "You are given an undirected weighted graph of n nodes (0-indexed), represented by an edge list where edges[i] = [a, b] is an undirected edge connecting the nodes a and b with a probability of success of traversing that edge succProb[i].\n",
        "\n",
        "Given two nodes start and end, find the path with the maximum probability of success to go from start to end and return its success probability.\n",
        "\n",
        "If there is no path from start to end, return 0. Your answer will be accepted if it differs from the correct answer by at most 1e-5.\n",
        "\n",
        "\n",
        "\n",
        "Example 1:\n",
        "\n",
        "\n",
        "\n",
        "Input: n = 3, edges = [[0,1],[1,2],[0,2]], succProb = [0.5,0.5,0.2], start = 0, end = 2\n",
        "Output: 0.25000\n",
        "Explanation: There are two paths from start to end, one having a probability of success = 0.2 and the other has 0.5 * 0.5 = 0.25.\n",
        "Example 2:\n",
        "\n",
        "\n",
        "\n",
        "Input: n = 3, edges = [[0,1],[1,2],[0,2]], succProb = [0.5,0.5,0.3], start = 0, end = 2\n",
        "Output: 0.30000\n",
        "Example 3:\n",
        "\n",
        "\n",
        "\n",
        "Input: n = 3, edges = [[0,1]], succProb = [0.5], start = 0, end = 2\n",
        "Output: 0.00000\n",
        "Explanation: There is no path between 0 and 2.\n",
        ""
      ],
      "metadata": {
        "id": "1HtbFbRLon2E"
      }
    },
    {
      "cell_type": "code",
      "execution_count": null,
      "metadata": {
        "id": "ethR8seXodDb"
      },
      "outputs": [],
      "source": [
        "class Solution:\n",
        "    def maxProbability(self, n: int, edges: List[List[int]], succProb: List[float], start_node: int, end_node: int) -> float:\n",
        "        # Create adjacency list\n",
        "        graph = defaultdict(list)\n",
        "        for (a, b), prob in zip(edges, succProb):\n",
        "            graph[a].append((b, prob))\n",
        "            graph[b].append((a, prob))\n",
        "\n",
        "        # Initialize max heap with start node\n",
        "        max_heap = [(-1, start_node)]  # (negative probability, node)\n",
        "        visited = set()\n",
        "\n",
        "        while max_heap:\n",
        "            prob, node = heapq.heappop(max_heap)\n",
        "            prob = -prob  # Convert back to positive probability\n",
        "\n",
        "            if node == end_node:\n",
        "                return prob\n",
        "\n",
        "            if node in visited:\n",
        "                continue\n",
        "\n",
        "            visited.add(node)\n",
        "\n",
        "            for neighbor, edge_prob in graph[node]:\n",
        "                if neighbor not in visited:\n",
        "                    new_prob = prob * edge_prob\n",
        "                    heapq.heappush(max_heap, (-new_prob, neighbor))\n",
        "\n",
        "        return 0"
      ]
    }
  ]
}