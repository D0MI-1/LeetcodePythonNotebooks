{
  "nbformat": 4,
  "nbformat_minor": 0,
  "metadata": {
    "colab": {
      "provenance": [],
      "authorship_tag": "ABX9TyOpUvK1jlJfVYpfftHEs+3X",
      "include_colab_link": true
    },
    "kernelspec": {
      "name": "python3",
      "display_name": "Python 3"
    },
    "language_info": {
      "name": "python"
    }
  },
  "cells": [
    {
      "cell_type": "markdown",
      "metadata": {
        "id": "view-in-github",
        "colab_type": "text"
      },
      "source": [
        "<a href=\"https://colab.research.google.com/github/D0MI-1/LeetcodePythonNotebooks/blob/main/590_N_ary_Tree_Postorder.ipynb\" target=\"_parent\"><img src=\"https://colab.research.google.com/assets/colab-badge.svg\" alt=\"Open In Colab\"/></a>"
      ]
    },
    {
      "cell_type": "markdown",
      "source": [
        "590. N-ary Tree Postorder Traversal\n",
        "## Neuer Abschnitt\n",
        "Given the root of an n-ary tree, return the postorder traversal of its nodes' values.\n",
        "\n",
        "Nary-Tree input serialization is represented in their level order traversal. Each group of children is separated by the null value (See examples)\n",
        "\n",
        "\n",
        "\n",
        "Example 1:\n",
        "\n",
        "\n",
        "Input: root = [1,null,3,2,4,null,5,6]\n",
        "Output: [5,6,3,2,4,1]\n",
        "Example 2:\n",
        "\n",
        "\n",
        "Input: root = [1,null,2,3,4,5,null,null,6,7,null,8,null,9,10,null,null,11,null,12,null,13,null,null,14]\n",
        "Output: [2,6,14,11,7,3,12,8,4,13,9,10,5,1]"
      ],
      "metadata": {
        "id": "9eKWV3g5UJXD"
      }
    },
    {
      "cell_type": "markdown",
      "source": [
        "PREorder: ROOT|Left|Right\n",
        "INorder: Left|ROOT|Right\n",
        "POSTorder: Left|Right|ROOT"
      ],
      "metadata": {
        "id": "F00ynZTsVmik"
      }
    },
    {
      "cell_type": "code",
      "execution_count": null,
      "metadata": {
        "id": "BeE7oz4NT2nS"
      },
      "outputs": [],
      "source": [
        "\"\"\"\n",
        "# Definition for a Node.\n",
        "class Node:\n",
        "    def __init__(self, val=None, children=None):\n",
        "        self.val = val\n",
        "        self.children = children\n",
        "\"\"\"\n",
        "\n",
        "class Solution:\n",
        "    def postorder(self, root: 'Node') -> List[int]:\n",
        "        result = []\n",
        "\n",
        "        def traverse(node):\n",
        "            if not node:\n",
        "                return\n",
        "\n",
        "            # First, visit all children\n",
        "            for child in node.children:\n",
        "                traverse(child)\n",
        "\n",
        "            # Then, add the current node's value\n",
        "            result.append(node.val)\n",
        "\n",
        "        traverse(root)\n",
        "        return result"
      ]
    },
    {
      "cell_type": "code",
      "source": [
        "# Definition for a Node.\n",
        "class Node:\n",
        "    def __init__(self, val=None, children=None):\n",
        "        self.val = val\n",
        "        self.children = children if children is not None else []\n",
        "\n",
        "class Solution:\n",
        "    def postorder(self, root: 'Node'):\n",
        "        result = []\n",
        "        def traverse(node):\n",
        "            print(node.val)\n",
        "            if not node:\n",
        "                return\n",
        "\n",
        "            # First, visit all children\n",
        "            for child in node.children:\n",
        "                traverse(child)\n",
        "\n",
        "            # Then, add the current node's value\n",
        "            result.append(node.val)\n",
        "\n",
        "        traverse(root)\n",
        "        return result\n",
        "\n",
        "\n",
        "root = Node(1)\n",
        "root.children = [Node(3), Node(2), Node(4)]\n",
        "root.children[0].children = [Node(5), Node(6)]\n",
        "\n",
        "print(root)\n",
        "solution = Solution()\n",
        "print(solution.postorder(root))  # Output: [5, 6, 3, 2, 4, 1]"
      ],
      "metadata": {
        "colab": {
          "base_uri": "https://localhost:8080/"
        },
        "id": "S9apQFkpYYZw",
        "outputId": "fb27515e-84ac-4761-a7b9-335ad7719985"
      },
      "execution_count": 8,
      "outputs": [
        {
          "output_type": "stream",
          "name": "stdout",
          "text": [
            "<__main__.Node object at 0x7fdf23dda080>\n",
            "1\n",
            "3\n",
            "2\n",
            "5\n",
            "6\n",
            "4\n",
            "[3, 5, 6, 2, 4, 1]\n"
          ]
        }
      ]
    }
  ]
}