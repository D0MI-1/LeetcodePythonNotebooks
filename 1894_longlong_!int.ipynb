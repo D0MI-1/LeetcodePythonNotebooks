{
  "nbformat": 4,
  "nbformat_minor": 0,
  "metadata": {
    "colab": {
      "provenance": [],
      "authorship_tag": "ABX9TyMt/s+UorK9tCYxRbwLiY9d",
      "include_colab_link": true
    },
    "kernelspec": {
      "name": "python3",
      "display_name": "Python 3"
    },
    "language_info": {
      "name": "python"
    }
  },
  "cells": [
    {
      "cell_type": "markdown",
      "metadata": {
        "id": "view-in-github",
        "colab_type": "text"
      },
      "source": [
        "<a href=\"https://colab.research.google.com/github/D0MI-1/LeetcodePythonNotebooks/blob/main/1894_longlong_!int.ipynb\" target=\"_parent\"><img src=\"https://colab.research.google.com/assets/colab-badge.svg\" alt=\"Open In Colab\"/></a>"
      ]
    },
    {
      "cell_type": "markdown",
      "source": [
        "1894. Find the Student that Will Replace the Chalk\n",
        "\n",
        "There are n students in a class numbered from 0 to n - 1. The teacher will give each student a problem starting with the student number 0, then the student number 1, and so on until the teacher reaches the student number n - 1. After that, the teacher will restart the process, starting with the student number 0 again.\n",
        "\n",
        "You are given a 0-indexed integer array chalk and an integer k. There are initially k pieces of chalk. When the student number i is given a problem to solve, they will use chalk[i] pieces of chalk to solve that problem. However, if the current number of chalk pieces is strictly less than chalk[i], then the student number i will be asked to replace the chalk.\n",
        "\n",
        "Return the index of the student that will replace the chalk pieces.\n",
        "\n",
        "\n",
        "\n",
        "Example 1:\n",
        "\n",
        "Input: chalk = [5,1,5], k = 22\n",
        "Output: 0\n",
        "Explanation: The students go in turns as follows:\n",
        "- Student number 0 uses 5 chalk, so k = 17.\n",
        "- Student number 1 uses 1 chalk, so k = 16.\n",
        "- Student number 2 uses 5 chalk, so k = 11.\n",
        "- Student number 0 uses 5 chalk, so k = 6.\n",
        "- Student number 1 uses 1 chalk, so k = 5.\n",
        "- Student number 2 uses 5 chalk, so k = 0.\n",
        "Student number 0 does not have enough chalk, so they will have to replace it.\n",
        "Example 2:\n",
        "\n",
        "Input: chalk = [3,4,1,2], k = 25\n",
        "Output: 1\n",
        "Explanation: The students go in turns as follows:\n",
        "- Student number 0 uses 3 chalk so k = 22.\n",
        "- Student number 1 uses 4 chalk so k = 18.\n",
        "- Student number 2 uses 1 chalk so k = 17.\n",
        "- Student number 3 uses 2 chalk so k = 15.\n",
        "- Student number 0 uses 3 chalk so k = 12.\n",
        "- Student number 1 uses 4 chalk so k = 8.\n",
        "- Student number 2 uses 1 chalk so k = 7.\n",
        "- Student number 3 uses 2 chalk so k = 5.\n",
        "- Student number 0 uses 3 chalk so k = 2.\n",
        "Student number 1 does not have enough chalk, so they will have to replace it.\n",
        ""
      ],
      "metadata": {
        "id": "7sIy8TFZ7wP-"
      }
    },
    {
      "cell_type": "code",
      "execution_count": null,
      "metadata": {
        "id": "bo1f3W7Y7ado"
      },
      "outputs": [],
      "source": [
        "class Solution:\n",
        "    def chalkReplacer(self, chalk: List[int], k: int) -> int:\n",
        "        k %= sum(chalk)  # This handles large values of k efficiently\n",
        "\n",
        "        for i, amount in enumerate(chalk):\n",
        "            if amount > k:\n",
        "                return i\n",
        "            k -= amount\n",
        "\n",
        "        return 0  # This line should never be reached if the input is valid"
      ]
    },
    {
      "cell_type": "code",
      "source": [
        "def chalkReplacer(chalk, k):\n",
        "        k %= sum(chalk)  # This handles large values of k efficiently\n",
        "\n",
        "        for i, amount in enumerate(chalk):\n",
        "            if amount > k:\n",
        "                return i\n",
        "            k -= amount\n",
        "\n",
        "        return 0  # This line should never be reached if the input is valid\n",
        "\n",
        "# Test cases\n",
        "test_cases = [\n",
        "    ([5,1,5], 22),\n",
        "    ([3,4,1,2], 25),\n",
        "    ([100000, 1, 100000, 1, 100000, 1, 100000, 1, 100000, 1], 500000),\n",
        "    ([1]*25, 1000000000),\n",
        "    ([7, 7, 3, 9, 2], 14),\n",
        "    ([1], 1000000000),\n",
        "    ([1]*34, 10),\n",
        "    ([1,2,3,4,5,6,7,8,9], 45)\n",
        "]\n",
        "\n",
        "# Run and print test cases\n",
        "for i, (chalk, k) in enumerate(test_cases, 1):\n",
        "    result = chalkReplacer(chalk, k)\n",
        "    print(f\"Test Case {i}:\")\n",
        "    print(f\"Input: chalk = {chalk}, k = {k}\")\n",
        "    print(f\"Output: {result}\")\n",
        "    print()  # Empty line for readability"
      ],
      "metadata": {
        "colab": {
          "base_uri": "https://localhost:8080/"
        },
        "id": "cpouD3Tq8QkK",
        "outputId": "b8c61f71-ed8f-4d87-d5cb-ba91af11551b"
      },
      "execution_count": 2,
      "outputs": [
        {
          "output_type": "stream",
          "name": "stdout",
          "text": [
            "Test Case 1:\n",
            "Input: chalk = [5, 1, 5], k = 22\n",
            "Output: 0\n",
            "\n",
            "Test Case 2:\n",
            "Input: chalk = [3, 4, 1, 2], k = 25\n",
            "Output: 1\n",
            "\n",
            "Test Case 3:\n",
            "Input: chalk = [100000, 1, 100000, 1, 100000, 1, 100000, 1, 100000, 1], k = 500000\n",
            "Output: 8\n",
            "\n",
            "Test Case 4:\n",
            "Input: chalk = [1, 1, 1, 1, 1, 1, 1, 1, 1, 1, 1, 1, 1, 1, 1, 1, 1, 1, 1, 1, 1, 1, 1, 1, 1], k = 1000000000\n",
            "Output: 0\n",
            "\n",
            "Test Case 5:\n",
            "Input: chalk = [7, 7, 3, 9, 2], k = 14\n",
            "Output: 2\n",
            "\n",
            "Test Case 6:\n",
            "Input: chalk = [1], k = 1000000000\n",
            "Output: 0\n",
            "\n",
            "Test Case 7:\n",
            "Input: chalk = [1, 1, 1, 1, 1, 1, 1, 1, 1, 1, 1, 1, 1, 1, 1, 1, 1, 1, 1, 1, 1, 1, 1, 1, 1, 1, 1, 1, 1, 1, 1, 1, 1, 1], k = 10\n",
            "Output: 10\n",
            "\n",
            "Test Case 8:\n",
            "Input: chalk = [1, 2, 3, 4, 5, 6, 7, 8, 9], k = 45\n",
            "Output: 0\n",
            "\n"
          ]
        }
      ]
    }
  ]
}