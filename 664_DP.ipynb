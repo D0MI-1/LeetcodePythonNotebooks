{
  "nbformat": 4,
  "nbformat_minor": 0,
  "metadata": {
    "colab": {
      "provenance": [],
      "authorship_tag": "ABX9TyNRobmQXyXAVV9HcgkhJMHW",
      "include_colab_link": true
    },
    "kernelspec": {
      "name": "python3",
      "display_name": "Python 3"
    },
    "language_info": {
      "name": "python"
    }
  },
  "cells": [
    {
      "cell_type": "markdown",
      "metadata": {
        "id": "view-in-github",
        "colab_type": "text"
      },
      "source": [
        "<a href=\"https://colab.research.google.com/github/D0MI-1/LeetcodePythonNotebooks/blob/main/664_DP.ipynb\" target=\"_parent\"><img src=\"https://colab.research.google.com/assets/colab-badge.svg\" alt=\"Open In Colab\"/></a>"
      ]
    },
    {
      "cell_type": "markdown",
      "source": [
        "664. Strange Printer\n",
        "\n",
        "There is a strange printer with the following two special properties:\n",
        "\n",
        "The printer can only print a sequence of the same character each time.\n",
        "At each turn, the printer can print new characters starting from and ending at any place and will cover the original existing characters.\n",
        "Given a string s, return the minimum number of turns the printer needed to print it.\n",
        "\n",
        "\n",
        "\n",
        "Example 1:\n",
        "\n",
        "Input: s = \"aaabbb\"\n",
        "Output: 2\n",
        "Explanation: Print \"aaa\" first and then print \"bbb\".\n",
        "Example 2:\n",
        "\n",
        "Input: s = \"aba\"\n",
        "Output: 2\n",
        "Explanation: Print \"aaa\" first and then print \"b\" from the second place of the string, which will cover the existing character 'a'."
      ],
      "metadata": {
        "id": "REkt1QVycc9m"
      }
    },
    {
      "cell_type": "code",
      "execution_count": null,
      "metadata": {
        "id": "G4H-QWS7PERA"
      },
      "outputs": [],
      "source": [
        "class Solution:\n",
        "    def strangePrinter(self, s: str) -> int:\n",
        "        n = len(s)\n",
        "        dp = [[-1] * n for _ in range(n)]\n",
        "        return self.Util(0, n - 1, s, dp)\n",
        "\n",
        "    def Util(self, i: int, j: int, s: str, dp: list) -> int:\n",
        "        if i > j:\n",
        "            return 0\n",
        "\n",
        "        if dp[i][j] != -1:\n",
        "            return dp[i][j]\n",
        "\n",
        "        first_letter = s[i]\n",
        "        # If the current character is not repeated in the rest of the string\n",
        "        answer = 1 + self.Util(i + 1, j, s, dp)\n",
        "        for k in range(i + 1, j + 1):\n",
        "            # If repeated then update the answer\n",
        "            if s[k] == first_letter:\n",
        "                # Splitting from i -> k - 1 (remove the last character)\n",
        "                # and from k + 1 -> j\n",
        "                better_answer = self.Util(i, k - 1, s, dp) + self.Util(k + 1, j, s, dp)\n",
        "                answer = min(answer, better_answer)\n",
        "        dp[i][j] = answer\n",
        "        return answer"
      ]
    }
  ]
}