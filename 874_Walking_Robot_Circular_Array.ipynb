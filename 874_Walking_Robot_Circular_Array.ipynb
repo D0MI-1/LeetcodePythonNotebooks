{
  "nbformat": 4,
  "nbformat_minor": 0,
  "metadata": {
    "colab": {
      "provenance": [],
      "authorship_tag": "ABX9TyNrjiDI1iO5e8cVD1YUdb6a",
      "include_colab_link": true
    },
    "kernelspec": {
      "name": "python3",
      "display_name": "Python 3"
    },
    "language_info": {
      "name": "python"
    }
  },
  "cells": [
    {
      "cell_type": "markdown",
      "metadata": {
        "id": "view-in-github",
        "colab_type": "text"
      },
      "source": [
        "<a href=\"https://colab.research.google.com/github/D0MI-1/LeetcodePythonNotebooks/blob/main/874_Walking_Robot_Circular_Array.ipynb\" target=\"_parent\"><img src=\"https://colab.research.google.com/assets/colab-badge.svg\" alt=\"Open In Colab\"/></a>"
      ]
    },
    {
      "cell_type": "markdown",
      "source": [
        "874. Walking Robot Simulation\n",
        "\n",
        "A robot on an infinite XY-plane starts at point (0, 0) facing north. The robot can receive a sequence of these three possible types of commands:\n",
        "\n",
        "-2: Turn left 90 degrees.\n",
        "-1: Turn right 90 degrees.\n",
        "1 <= k <= 9: Move forward k units, one unit at a time.\n",
        "Some of the grid squares are obstacles. The ith obstacle is at grid point obstacles[i] = (xi, yi). If the robot runs into an obstacle, then it will instead stay in its current location and move on to the next command.\n",
        "\n",
        "Return the maximum Euclidean distance that the robot ever gets from the origin squared (i.e. if the distance is 5, return 25).\n",
        "\n",
        "Note:\n",
        "\n",
        "North means +Y direction.\n",
        "East means +X direction.\n",
        "South means -Y direction.\n",
        "West means -X direction.\n",
        "There can be obstacle in [0,0].\n",
        "\n",
        "\n",
        "Example 1:\n",
        "\n",
        "Input: commands = [4,-1,3], obstacles = []\n",
        "Output: 25\n",
        "Explanation: The robot starts at (0, 0):\n",
        "1. Move north 4 units to (0, 4).\n",
        "2. Turn right.\n",
        "3. Move east 3 units to (3, 4).\n",
        "The furthest point the robot ever gets from the origin is (3, 4), which squared is 32 + 42 = 25 units away.\n",
        "Example 2:\n",
        "\n",
        "Input: commands = [4,-1,4,-2,4], obstacles = [[2,4]]\n",
        "Output: 65\n",
        "Explanation: The robot starts at (0, 0):\n",
        "1. Move north 4 units to (0, 4).\n",
        "2. Turn right.\n",
        "3. Move east 1 unit and get blocked by the obstacle at (2, 4), robot is at (1, 4).\n",
        "4. Turn left.\n",
        "5. Move north 4 units to (1, 8).\n",
        "The furthest point the robot ever gets from the origin is (1, 8), which squared is 12 + 82 = 65 units away.\n",
        "Example 3:\n",
        "\n",
        "Input: commands = [6,-1,-1,6], obstacles = []\n",
        "Output: 36\n",
        "Explanation: The robot starts at (0, 0):\n",
        "1. Move north 6 units to (0, 6).\n",
        "2. Turn right.\n",
        "3. Turn right.\n",
        "4. Move south 6 units to (0, 0).\n",
        "The furthest point the robot ever gets from the origin is (0, 6), which squared is 62 = 36 units away."
      ],
      "metadata": {
        "id": "a93kGlgID-kK"
      }
    },
    {
      "cell_type": "code",
      "execution_count": 8,
      "metadata": {
        "id": "GSGA_OemDyyk"
      },
      "outputs": [],
      "source": [
        "class CircularArrayPointer:\n",
        "    def __init__(self, array):\n",
        "        self.array = array\n",
        "        self.pointer = 0\n",
        "        self.length = len(array)\n",
        "\n",
        "    def move_right(self, steps=1):\n",
        "        self.pointer = (self.pointer + steps) % self.length\n",
        "\n",
        "    def move_left(self, steps=1):\n",
        "        self.pointer = (self.pointer - steps) % self.length\n",
        "\n",
        "    def get_current(self):\n",
        "        return self.array[self.pointer]\n",
        "\n",
        "    def set_current(self, value):\n",
        "        self.array[self.pointer] = value\n",
        "\n",
        "    def __str__(self):\n",
        "        return f\"Pointer at index {self.pointer}: {self.get_current()}\"\n",
        "\n",
        "class Solution:\n",
        "    def robotSim(self, commands: List[int], obstacles: List[List[int]]) -> int:\n",
        "        # North = 1\n",
        "        # East = 2\n",
        "        # South = 3\n",
        "        # West = 4\n",
        "        arr = [1, 2, 3, 4]\n",
        "        direction = CircularArrayPointer(arr)\n",
        "        curr_position = [0, 0]\n",
        "        obstacles_set = set(map(tuple, obstacles))  # Convert to set of tuples for efficient lookup\n",
        "        max_distance = 0\n",
        "\n",
        "        for command in commands:\n",
        "            if command == -1:\n",
        "                direction.move_right(1)\n",
        "            elif command == -2:\n",
        "                direction.move_left(1)\n",
        "            elif command > 0:\n",
        "                dx, dy = 0, 0\n",
        "                if direction.get_current() == 1:  # North\n",
        "                    dy = 1\n",
        "                elif direction.get_current() == 2:  # East\n",
        "                    dx = 1\n",
        "                elif direction.get_current() == 3:  # South\n",
        "                    dy = -1\n",
        "                elif direction.get_current() == 4:  # West\n",
        "                    dx = -1\n",
        "\n",
        "                for _ in range(command):\n",
        "                    next_pos = (curr_position[0] + dx, curr_position[1] + dy)\n",
        "                    if next_pos in obstacles_set:\n",
        "                        break\n",
        "                    curr_position[0], curr_position[1] = next_pos\n",
        "                    max_distance = max(max_distance, curr_position[0]**2 + curr_position[1]**2)\n",
        "\n",
        "        return max_distance\n"
      ]
    },
    {
      "cell_type": "code",
      "source": [
        "import unittest\n",
        "\n",
        "class TestRobotSimulator(unittest.TestCase):\n",
        "    def setUp(self):\n",
        "        self.solution = Solution()\n",
        "\n",
        "    def test_no_obstacles(self):\n",
        "        commands = [4, -1, 3]\n",
        "        obstacles = []\n",
        "        self.assertEqual(self.solution.robotSim(commands, obstacles), 25)\n",
        "\n",
        "    def test_with_obstacles(self):\n",
        "        commands = [4, -1, 4, -2, 4]\n",
        "        obstacles = [[2, 4]]\n",
        "        self.assertEqual(self.solution.robotSim(commands, obstacles), 65)\n",
        "\n",
        "    def test_circle_movement(self):\n",
        "        commands = [6,-1,-1,6]\n",
        "        obstacles = []\n",
        "        self.assertEqual(self.solution.robotSim(commands, obstacles), 36)\n",
        "\n",
        "    if __name__ == '__main__':\n",
        "      unittest.main(argv=[''], exit=False)"
      ],
      "metadata": {
        "colab": {
          "base_uri": "https://localhost:8080/"
        },
        "id": "irHTozroETE8",
        "outputId": "d5ec438e-3daa-4f64-e33f-c6b23834d8c5"
      },
      "execution_count": 9,
      "outputs": [
        {
          "output_type": "stream",
          "name": "stderr",
          "text": [
            "...\n",
            "----------------------------------------------------------------------\n",
            "Ran 3 tests in 0.006s\n",
            "\n",
            "OK\n"
          ]
        }
      ]
    }
  ]
}