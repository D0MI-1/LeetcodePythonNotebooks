{
  "nbformat": 4,
  "nbformat_minor": 0,
  "metadata": {
    "colab": {
      "provenance": [],
      "authorship_tag": "ABX9TyPQOEpxnuv9k66dWvdSibXJ",
      "include_colab_link": true
    },
    "kernelspec": {
      "name": "python3",
      "display_name": "Python 3"
    },
    "language_info": {
      "name": "python"
    }
  },
  "cells": [
    {
      "cell_type": "markdown",
      "metadata": {
        "id": "view-in-github",
        "colab_type": "text"
      },
      "source": [
        "<a href=\"https://colab.research.google.com/github/D0MI-1/LeetcodePythonNotebooks/blob/main/3217_Linkedlist_Delete.ipynb\" target=\"_parent\"><img src=\"https://colab.research.google.com/assets/colab-badge.svg\" alt=\"Open In Colab\"/></a>"
      ]
    },
    {
      "cell_type": "code",
      "execution_count": null,
      "metadata": {
        "id": "aXveVW-ijbS8"
      },
      "outputs": [],
      "source": [
        "# Definition for singly-linked list.\n",
        "# class ListNode:\n",
        "#     def __init__(self, val=0, next=None):\n",
        "#         self.val = val\n",
        "#         self.next = next\n",
        "class Solution:\n",
        "    def modifiedList(self, nums: List[int], head: Optional[ListNode]) -> Optional[ListNode]:\n",
        "        num_set = set(nums)\n",
        "\n",
        "        while head and head.val in num_set:\n",
        "            head = head.next\n",
        "\n",
        "        if not head:\n",
        "            return None\n",
        "\n",
        "        current = head\n",
        "        while current.next:\n",
        "            if current.next.val in num_set:\n",
        "                current.next = current.next.next\n",
        "            else:\n",
        "                current = current.next\n",
        "\n",
        "        return head"
      ]
    }
  ]
}