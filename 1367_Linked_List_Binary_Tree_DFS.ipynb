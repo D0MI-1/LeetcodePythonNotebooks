{
  "nbformat": 4,
  "nbformat_minor": 0,
  "metadata": {
    "colab": {
      "provenance": [],
      "authorship_tag": "ABX9TyO8T30pUDztfePnhsLoVqPd",
      "include_colab_link": true
    },
    "kernelspec": {
      "name": "python3",
      "display_name": "Python 3"
    },
    "language_info": {
      "name": "python"
    }
  },
  "cells": [
    {
      "cell_type": "markdown",
      "metadata": {
        "id": "view-in-github",
        "colab_type": "text"
      },
      "source": [
        "<a href=\"https://colab.research.google.com/github/D0MI-1/LeetcodePythonNotebooks/blob/main/1367_Linked_List_Binary_Tree_DFS.ipynb\" target=\"_parent\"><img src=\"https://colab.research.google.com/assets/colab-badge.svg\" alt=\"Open In Colab\"/></a>"
      ]
    },
    {
      "cell_type": "markdown",
      "source": [
        "1367. Linked List in Binary Tree\n",
        "\n",
        "Given a binary tree root and a linked list with head as the first node.\n",
        "\n",
        "Return True if all the elements in the linked list starting from the head correspond to some downward path connected in the binary tree otherwise return False.\n",
        "\n",
        "In this context downward path means a path that starts at some node and goes downwards.\n",
        "\n",
        "\n",
        "\n",
        "Example 1:\n",
        "\n",
        "\n",
        "\n",
        "Input: head = [4,2,8], root = [1,4,4,null,2,2,null,1,null,6,8,null,null,null,null,1,3]\n",
        "Output: true\n",
        "Explanation: Nodes in blue form a subpath in the binary Tree.  \n",
        "Example 2:\n",
        "\n",
        "\n",
        "\n",
        "Input: head = [1,4,2,6], root = [1,4,4,null,2,2,null,1,null,6,8,null,null,null,null,1,3]\n",
        "Output: true\n",
        "Example 3:\n",
        "\n",
        "Input: head = [1,4,2,6,8], root = [1,4,4,null,2,2,null,1,null,6,8,null,null,null,null,1,3]\n",
        "Output: false\n",
        "Explanation: There is no path in the binary tree that contains all the elements of the linked list from head.\n",
        "\n",
        "\n"
      ],
      "metadata": {
        "id": "dPo17oXg9L9y"
      }
    },
    {
      "cell_type": "code",
      "execution_count": null,
      "metadata": {
        "id": "MA1Seq-g9FXj"
      },
      "outputs": [],
      "source": [
        "# Definition for singly-linked list.\n",
        "# class ListNode:\n",
        "#     def __init__(self, val=0, next=None):\n",
        "#         self.val = val\n",
        "#         self.next = next\n",
        "# Definition for a binary tree node.\n",
        "# class TreeNode:\n",
        "#     def __init__(self, val=0, left=None, right=None):\n",
        "#         self.val = val\n",
        "#         self.left = left\n",
        "#         self.right = right\n",
        "class Solution:\n",
        "    def isSubPath(self, head: Optional[ListNode], root: Optional[TreeNode]) -> bool:\n",
        "        def dfs(node, current):\n",
        "            if current is None:\n",
        "                return True\n",
        "            if node is None:\n",
        "                return False\n",
        "\n",
        "            if node.val == current.val:\n",
        "                if dfs(node.left, current.next) or dfs(node.right, current.next):\n",
        "                    return True\n",
        "\n",
        "            return False\n",
        "\n",
        "        def traverse(node):\n",
        "            if node is None:\n",
        "                return False\n",
        "\n",
        "            if dfs(node, head):\n",
        "                return True\n",
        "\n",
        "            return traverse(node.left) or traverse(node.right)\n",
        "\n",
        "        return traverse(root)"
      ]
    }
  ]
}