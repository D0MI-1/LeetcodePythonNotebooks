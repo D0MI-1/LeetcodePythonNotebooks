{
  "nbformat": 4,
  "nbformat_minor": 0,
  "metadata": {
    "colab": {
      "provenance": [],
      "authorship_tag": "ABX9TyM1Nx/dV/HRHQAc5+s9abDU",
      "include_colab_link": true
    },
    "kernelspec": {
      "name": "python3",
      "display_name": "Python 3"
    },
    "language_info": {
      "name": "python"
    }
  },
  "cells": [
    {
      "cell_type": "markdown",
      "metadata": {
        "id": "view-in-github",
        "colab_type": "text"
      },
      "source": [
        "<a href=\"https://colab.research.google.com/github/D0MI-1/LeetcodePythonNotebooks/blob/main/2028_mod_for_remaider.ipynb\" target=\"_parent\"><img src=\"https://colab.research.google.com/assets/colab-badge.svg\" alt=\"Open In Colab\"/></a>"
      ]
    },
    {
      "cell_type": "markdown",
      "source": [
        "2028. Find Missing Observations\n",
        "\n",
        "You have observations of n + m 6-sided dice rolls with each face numbered from 1 to 6. n of the observations went missing, and you only have the observations of m rolls. Fortunately, you have also calculated the average value of the n + m rolls.\n",
        "\n",
        "You are given an integer array rolls of length m where rolls[i] is the value of the ith observation. You are also given the two integers mean and n.\n",
        "\n",
        "Return an array of length n containing the missing observations such that the average value of the n + m rolls is exactly mean. If there are multiple valid answers, return any of them. If no such array exists, return an empty array.\n",
        "\n",
        "The average value of a set of k numbers is the sum of the numbers divided by k.\n",
        "\n",
        "Note that mean is an integer, so the sum of the n + m rolls should be divisible by n + m.\n",
        "\n",
        "\n",
        "\n",
        "Example 1:\n",
        "\n",
        "Input: rolls = [3,2,4,3], mean = 4, n = 2\n",
        "Output: [6,6]\n",
        "Explanation: The mean of all n + m rolls is (3 + 2 + 4 + 3 + 6 + 6) / 6 = 4.\n",
        "Example 2:\n",
        "\n",
        "Input: rolls = [1,5,6], mean = 3, n = 4\n",
        "Output: [2,3,2,2]\n",
        "Explanation: The mean of all n + m rolls is (1 + 5 + 6 + 2 + 3 + 2 + 2) / 7 = 3.\n",
        "Example 3:\n",
        "\n",
        "Input: rolls = [1,2,3,4], mean = 6, n = 4\n",
        "Output: []\n",
        "Explanation: It is impossible for the mean to be 6 no matter what the 4 missing rolls are."
      ],
      "metadata": {
        "id": "RQ_FEvZQMBTY"
      }
    },
    {
      "cell_type": "code",
      "execution_count": null,
      "metadata": {
        "id": "rN7undxdL85n"
      },
      "outputs": [],
      "source": [
        "class Solution:\n",
        "    def missingRolls(self, rolls: List[int], mean: int, n: int) -> List[int]:\n",
        "        # x / nm = mean -> x = nm * mean\n",
        "        m = len(rolls)\n",
        "\n",
        "        total_sum = (n + m) * mean\n",
        "        known_sum = sum(rolls)\n",
        "        missing_sum = total_sum - known_sum\n",
        "\n",
        "        if missing_sum > 6 * n or missing_sum < n:\n",
        "            return []\n",
        "\n",
        "        result = [missing_sum // n] * n\n",
        "        remainder = missing_sum % n\n",
        "\n",
        "        # Distribute the remainder\n",
        "        for i in range(remainder):\n",
        "            result[i] += 1\n",
        "\n",
        "        return result\n",
        "\n"
      ]
    }
  ]
}